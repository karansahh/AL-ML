{
 "cells": [
  {
   "cell_type": "markdown",
   "id": "67492129-e4f5-4e9c-be4d-1bc7c764e85f",
   "metadata": {
    "slideshow": {
     "slide_type": ""
    },
    "tags": []
   },
   "source": [
    "# Exercise - 1:"
   ]
  },
  {
   "cell_type": "markdown",
   "id": "023454f2-bdcb-43b9-a3f4-c25207c1e4e5",
   "metadata": {},
   "source": [
    "## 1. Read and display the image.\n",
    "• Read the image using the Pillow library and display it\n",
    "\n",
    "• You can also use matplotlib to display the image.."
   ]
  },
  {
   "cell_type": "code",
   "execution_count": 1,
   "id": "94873a68-a39e-41ed-96a6-a36ef8bf511e",
   "metadata": {},
   "outputs": [],
   "source": [
    "from PIL import Image\n",
    "import numpy as np\n",
    "import matplotlib.pyplot as plt"
   ]
  },
  {
   "cell_type": "code",
   "execution_count": 2,
   "id": "d9863e5d-bf44-460e-ba02-3741f87ef80a",
   "metadata": {},
   "outputs": [],
   "source": [
    "def display_pil(array):\n",
    "    img = Image.fromarray(array)\n",
    "    img.show()\n",
    "\n",
    "def display_plt(array, color):\n",
    "    plt.imshow(array, cmap=color)\n",
    "    plt.show()"
   ]
  },
  {
   "cell_type": "code",
   "execution_count": 3,
   "id": "29849419-de6f-4a57-b9cf-6babb0a9183d",
   "metadata": {},
   "outputs": [],
   "source": [
    "img = Image.open(\"Lenna_(test_image).png\")"
   ]
  },
  {
   "cell_type": "code",
   "execution_count": null,
   "id": "dc8c5259-a854-4a66-a4aa-b26509ab6099",
   "metadata": {},
   "outputs": [],
   "source": [
    "img.show()"
   ]
  },
  {
   "cell_type": "markdown",
   "id": "9e258a10-6d29-467c-a61b-16c4509a5b94",
   "metadata": {},
   "source": [
    "## 2. Display only the top left corner of 100x100 pixels.\n",
    "• Extract the top-left corner of the image (100x100 pixels) and display it using NumPy and\n",
    "Array Indexing."
   ]
  },
  {
   "cell_type": "code",
   "execution_count": null,
   "id": "bfe68166-f073-4d35-b639-871cfa491ee8",
   "metadata": {
    "scrolled": true
   },
   "outputs": [],
   "source": [
    "img_array = np.array(img)\n",
    "print(img_array)"
   ]
  },
  {
   "cell_type": "code",
   "execution_count": null,
   "id": "99f4ef5b-5d26-442d-9098-acef155b381d",
   "metadata": {
    "scrolled": true
   },
   "outputs": [],
   "source": [
    "img2 = img_array[:100, :100]"
   ]
  },
  {
   "cell_type": "code",
   "execution_count": null,
   "id": "8605625e-56b5-40a3-ab97-dc0044610992",
   "metadata": {},
   "outputs": [],
   "source": [
    "display_pil(img2)"
   ]
  },
  {
   "cell_type": "markdown",
   "id": "dc1a3dd8-65f0-4fd9-b124-e02fcf571b39",
   "metadata": {},
   "source": [
    "## 3. Show the three color channels (R, G, B).\n",
    "• Separate the image into its three color channels (Red, Green, and Blue) and display them\n",
    "individually, labeling each channel as R, G, and B.{Using NumPy.}"
   ]
  },
  {
   "cell_type": "code",
   "execution_count": null,
   "id": "706f200a-12a8-4637-bfd0-b3ac6e3ef8a3",
   "metadata": {},
   "outputs": [],
   "source": [
    "red_channel = img_array[:, :, 0]\n",
    "green_channel = img_array[:, :, 1]\n",
    "blue_channel = img_array[:, :, 2]\n",
    "\n",
    "display_plt(red_channel, \"Reds\")\n",
    "display_plt(green_channel, \"Blues\")\n",
    "display_plt(blue_channel, \"Greens\")"
   ]
  },
  {
   "cell_type": "markdown",
   "id": "746a982d-6fa6-4334-980e-1526fd9f4429",
   "metadata": {},
   "source": [
    "## 4. Modify the top 100 × 100 pixels to a value of 210 and display the resulting image:\n",
    "• Modify the pixel values of the top-left 100 × 100 region to have a value of 210 (which is a\n",
    "light gray color), and then display the modified image."
   ]
  },
  {
   "cell_type": "code",
   "execution_count": null,
   "id": "ee87b631-2916-4362-89d0-fda05d2feef6",
   "metadata": {},
   "outputs": [],
   "source": [
    "img_array[:100, :100] = 210\n",
    "\n",
    "display_plt(img_array, None)"
   ]
  },
  {
   "cell_type": "markdown",
   "id": "5dbef6cf-9357-4ddd-958d-ef72adeeeb36",
   "metadata": {},
   "source": [
    "# 2.2 Exercise - 2:\n",
    "Complete all the Tasklib."
   ]
  },
  {
   "cell_type": "markdown",
   "id": "1758ca8a-c81d-4fb8-8d47-824965c6a1b7",
   "metadata": {},
   "source": [
    "## 1. Load and display a grayscale image.\n",
    "• Load a grayscale image using the Pillow library.\n",
    "\n",
    "• Display the grayscale image using matplotlib."
   ]
  },
  {
   "cell_type": "code",
   "execution_count": null,
   "id": "190f79e3-e2f2-4c95-9c02-d0cc0dbfaf81",
   "metadata": {},
   "outputs": [],
   "source": [
    "img = Image.open(\"cameraman.png\")\n",
    "img_grayscale = img.convert('L')\n",
    "img_grayscale.show()"
   ]
  },
  {
   "cell_type": "markdown",
   "id": "b4e582ec-0859-4602-a777-d38adb80291d",
   "metadata": {},
   "source": [
    "## 2. Extract and display the middle section of the image (150 pixels).\n",
    "• Extract a 150 pixel section from the center of the image using NumPy array slicing.\n",
    "• Display this cropped image using matplotlib."
   ]
  },
  {
   "cell_type": "code",
   "execution_count": null,
   "id": "8ca5d8b6-2e5c-4438-bfb6-06b8b934be2c",
   "metadata": {},
   "outputs": [],
   "source": [
    "img_array = np.array(img_grayscale)\n",
    "\n",
    "h, w = img_array.shape[:2]\n",
    "\n",
    "center_x, center_y = w // 2, h // 2\n",
    "\n",
    "pixel_section = 150\n",
    "half_section = pixel_section // 2\n",
    "\n",
    "cropped = img_array[center_y - half_section:center_y + half_section, center_x - half_section:center_x + half_section]\n",
    "\n",
    "display_plt(cropped, \"gray\")"
   ]
  },
  {
   "cell_type": "markdown",
   "id": "1066140c-2044-417a-95dc-8d3f71be8be0",
   "metadata": {},
   "source": [
    "## 3. Apply a simple threshold to the image (e.g., set all pixel values below 100 to 0).\n",
    "• Apply a threshold to the grayscale image: set all pixel values below 100 to 0, and all values\n",
    "above 100 to 255 (creating a binary image\n",
    ").\n",
    "• Display the resulting binary image."
   ]
  },
  {
   "cell_type": "code",
   "execution_count": null,
   "id": "84eb3451-97ed-4695-8d43-9025a1615c1e",
   "metadata": {},
   "outputs": [],
   "source": [
    "threshold = 100\n",
    "\n",
    "img_file = img.point(lambda p: 255 if p > threshold else 0)\n",
    "img_file.show()"
   ]
  },
  {
   "cell_type": "markdown",
   "id": "807a81d7-0b42-4ddc-ae28-f8addee90998",
   "metadata": {},
   "source": [
    "## 4. Rotate the image 90 degrees clockwise and display the result.\n",
    "• Rotate the image by 90 degrees clockwise using the Pillow rotate method or by manipulating\n",
    "the image array.\n",
    "• Display the rotated image using matplotlib."
   ]
  },
  {
   "cell_type": "code",
   "execution_count": null,
   "id": "4317dc5c-9e29-472a-8fae-128d12dda64e",
   "metadata": {},
   "outputs": [],
   "source": [
    "rotate_img = img.rotate(270)\n",
    "rotate_img_array = np.array(rotate_img)\n",
    "display_plt(rotate_img, \"gray\")"
   ]
  },
  {
   "cell_type": "markdown",
   "id": "9c43f648-c402-4f77-94df-6dadb812f37e",
   "metadata": {},
   "source": [
    "## 5. Convert the grayscale image to an RGB image.\n",
    "• Convert the grayscale image into an RGB image where the grayscale values are replicated\n",
    "across all three channels (R, G, and B).\n",
    "• Display the converted RGB image using matplotlib."
   ]
  },
  {
   "cell_type": "code",
   "execution_count": null,
   "id": "2044e222-97ba-431b-bc3a-f5d546acd890",
   "metadata": {},
   "outputs": [],
   "source": [
    "img_grayscale_array = np.array(img_grayscale)\n",
    "\n",
    "rgb = np.stack([img_grayscale_array] * 3, axis=-1)\n",
    "\n",
    "display_plt(rgb, None)"
   ]
  },
  {
   "cell_type": "markdown",
   "id": "4f188f2c-6810-433e-a279-8df0ac20637e",
   "metadata": {},
   "source": [
    "# 3 Image Compression and Decompression using PCA.\n",
    "In this exercise, build a PCA from scratch using explained variance method for image compression task.\n",
    "You are expected to compute the necessary matrices from the scratch. Dataset: Use image of your\n",
    "choice."
   ]
  },
  {
   "cell_type": "markdown",
   "id": "3562b0de-38d8-4f41-b43b-ef3792706113",
   "metadata": {},
   "source": [
    "## 1. Load and Prepare Data:\n",
    "• Fetch an image of you choice.{If colour convert to grayscale}\n",
    "• Center the dataset - Standaridze the Data.\n",
    "• Calculate the covaraince matrix of the Standaridze data."
   ]
  },
  {
   "cell_type": "code",
   "execution_count": null,
   "id": "77d259b3-da5c-4597-99e9-f4f1d6cc0feb",
   "metadata": {},
   "outputs": [],
   "source": [
    "img = Image.open(\"cameraman.png\")\n",
    "img_array = np.array(img)\n",
    "height, width = img_array.shape\n",
    "data = img_array.reshape(height, width)\n",
    "\n",
    "mean = np.mean(data, axis=0)\n",
    "centered_data = data - mean\n",
    "\n",
    "covariance = np.cov(centered_data, rowvar=False)"
   ]
  },
  {
   "cell_type": "markdown",
   "id": "f6cdc8c5-9fb0-499f-a5c6-88c5577a7209",
   "metadata": {},
   "source": [
    "## 2. Eigen Decomposition and Identifying Principal Components:\n",
    "• Compute Eigen Values and Eigen Vectors.\n",
    "• Sort the eigenvalues in descending order and choose the top k eigenvectors corresponding to\n",
    "the highest eigenvalues.\n",
    "• Identify the Principal Components with the help of cumulative Sum plot.ta."
   ]
  },
  {
   "cell_type": "code",
   "execution_count": null,
   "id": "76e6c3ec-a283-4a66-88a6-1e7a0bb35d4e",
   "metadata": {},
   "outputs": [],
   "source": [
    "eigenvalues, eigenvectors = np.linalg.eigh(covariance)\n",
    "\n",
    "sorted_indices = np.argsort(eigenvalues)[::-1]\n",
    "eigenvalues = eigenvalues[sorted_indices]\n",
    "eigenvectors = eigenvectors[:, sorted_indices]\n",
    "\n",
    "explained_variances_ratio = eigenvalues / np.sum(eigenvalues)\n",
    "plt.plot(np.cumsum(explained_variances_ratio))\n",
    "plt.title(\"Cumulative Explianed Variance of cameraman.png\")\n",
    "plt.xlabel(\"Number of Components\")\n",
    "plt.ylabel(\"Cumulative Explained Variance\")\n",
    "plt.grid(True)\n",
    "plt.show()"
   ]
  },
  {
   "cell_type": "code",
   "execution_count": null,
   "id": "eda4072d-3ad4-49df-8148-3d421cb29dd1",
   "metadata": {},
   "outputs": [],
   "source": [
    "def pca(k):\n",
    "    components = eigenvectors[:, :k]\n",
    "    \n",
    "    compressed_data = np.dot(centered_data, components)\n",
    "    return components, compressed_data\n",
    "\n",
    "\n",
    "components, compressed_data = pca(50)\n",
    "\n",
    "plt.imshow(compressed_data)\n",
    "plt.show()"
   ]
  },
  {
   "cell_type": "markdown",
   "id": "67f2c084-7ba8-45bd-9100-0019dc0c6728",
   "metadata": {},
   "source": [
    "## 3. Reconstruction and Experiment:\n",
    "\n",
    "• Reconstruction: Transform the original data by multiplying it with the selected eigenvec-\n",
    "tors(PCs) to obtain a lower-dimensional representativaluate."
   ]
  },
  {
   "cell_type": "code",
   "execution_count": null,
   "id": "21447fa5-a4d2-41eb-a80b-b8b83bb68921",
   "metadata": {},
   "outputs": [],
   "source": [
    "def reconstruct(compressed_data, components):\n",
    "    decompressed_data = np.dot(compressed_data, components.T) + mean\n",
    "    return decompressed_data\n",
    "\n",
    "\n",
    "decompressed_data = reconstruct(compressed_data, components)\n",
    "display_pil(decompressed_data)"
   ]
  },
  {
   "cell_type": "markdown",
   "id": "f81ca2b4-189f-4d2f-bc25-800071bff30b",
   "metadata": {},
   "source": [
    "• Experiments: Pick Four different combination of principal components with various ex-\n",
    "plained variance value and compare the result. • Display the Results and Evaluate."
   ]
  },
  {
   "cell_type": "code",
   "execution_count": null,
   "id": "aa577ae4-f594-4d73-ab3f-476abca84359",
   "metadata": {},
   "outputs": [],
   "source": [
    "k_values = [1, 5, 10, 100]\n",
    "\n",
    "fig, axs = plt.subplots(2, 2, figsize=(20, 20))\n",
    "\n",
    "for index in range(4):\n",
    "    i, j = index // 2, index % 2\n",
    "\n",
    "    k_value = k_values[index]\n",
    "\n",
    "    components, compressed_data = pca(k_value)\n",
    "    decompressed_data = reconstruct(compressed_data, components)\n",
    "    axs[i, j].imshow(decompressed_data, cmap=\"gray\")\n",
    "    axs[i, j].set_title(f\"PCA with {k_value} Components\")\n",
    "\n",
    "\n",
    "plt.show()"
   ]
  },
  {
   "cell_type": "code",
   "execution_count": null,
   "id": "3d4e3731",
   "metadata": {},
   "outputs": [],
   "source": []
  }
 ],
 "metadata": {
  "kernelspec": {
   "display_name": "Python 3 (ipykernel)",
   "language": "python",
   "name": "python3"
  },
  "language_info": {
   "codemirror_mode": {
    "name": "ipython",
    "version": 3
   },
   "file_extension": ".py",
   "mimetype": "text/x-python",
   "name": "python",
   "nbconvert_exporter": "python",
   "pygments_lexer": "ipython3",
   "version": "3.11.5"
  }
 },
 "nbformat": 4,
 "nbformat_minor": 5
}
